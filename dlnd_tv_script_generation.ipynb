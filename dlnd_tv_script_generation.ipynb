{
 "cells": [
  {
   "cell_type": "markdown",
   "metadata": {
    "deletable": true,
    "editable": true
   },
   "source": [
    "# TV Script Generation\n",
    "In this project, you'll generate your own [Simpsons](https://en.wikipedia.org/wiki/The_Simpsons) TV scripts using RNNs.  You'll be using part of the [Simpsons dataset](https://www.kaggle.com/wcukierski/the-simpsons-by-the-data) of scripts from 27 seasons.  The Neural Network you'll build will generate a new TV script for a scene at [Moe's Tavern](https://simpsonswiki.com/wiki/Moe's_Tavern).\n",
    "## Get the Data\n",
    "The data is already provided for you.  You'll be using a subset of the original dataset.  It consists of only the scenes in Moe's Tavern.  This doesn't include other versions of the tavern, like \"Moe's Cavern\", \"Flaming Moe's\", \"Uncle Moe's Family Feed-Bag\", etc.."
   ]
  },
  {
   "cell_type": "code",
   "execution_count": 1,
   "metadata": {
    "collapsed": false,
    "deletable": true,
    "editable": true
   },
   "outputs": [],
   "source": [
    "\"\"\"\n",
    "DON'T MODIFY ANYTHING IN THIS CELL\n",
    "\"\"\"\n",
    "import helper\n",
    "\n",
    "data_dir = './data/simpsons/moes_tavern_lines.txt'\n",
    "text = helper.load_data(data_dir)\n",
    "# Ignore notice, since we don't use it for analysing the data\n",
    "text = text[81:]"
   ]
  },
  {
   "cell_type": "markdown",
   "metadata": {
    "deletable": true,
    "editable": true
   },
   "source": [
    "## Explore the Data\n",
    "Play around with `view_sentence_range` to view different parts of the data."
   ]
  },
  {
   "cell_type": "code",
   "execution_count": 12,
   "metadata": {
    "collapsed": false,
    "deletable": true,
    "editable": true
   },
   "outputs": [
    {
     "data": {
      "text/plain": [
       "'Moe_Szyslak: (INTO PHONE) Moe\\'s Tavern. Where the elite meet to drink.\\nBart_Simpson: Eh, yeah, hello, is Mike there? Last name, Rotch.\\nMoe_Szyslak: (INTO PHONE) Hold on, I\\'ll check. (TO BARFLIES) Mike Rotch. Mike Rotch. Hey, has anybody seen Mike Rotch, lately?\\nMoe_Szyslak: (INTO PHONE) Listen you little puke. One of these days I\\'m gonna catch you, and I\\'m gonna carve my name on your back with an ice pick.\\nMoe_Szyslak: What\\'s the matter Homer? You\\'re not your normal effervescent self.\\nHomer_Simpson: I got my problems, Moe. Give me another one.\\nMoe_Szyslak: Homer, hey, you should not drink to forget your problems.\\nBarney_Gumble: Yeah, you should only drink to enhance your social skills.\\n\\n\\nMoe_Szyslak: Ah, isn\\'t that nice. Now, there is a politician who cares.\\nBarney_Gumble: If I ever vote, it\\'ll be for him. (BELCH)\\n\\n\\nBarney_Gumble: Hey Homer, how\\'s your neighbor\\'s store doing?\\nHomer_Simpson: Lousy. He just sits there all day. He\\'d have a great job if he didn\\'t own the place. (CHUCKLES)\\nMoe_Szyslak: (STRUGGLING WITH CORKSCREW) Crummy right-handed corkscrews! What does he sell?\\nHomer_Simpson: Uh, well actually, Moe...\\nHOMER_(CONT\\'D: I dunno.\\n\\n\\nMoe_Szyslak: Looks like this is the end.\\nBarney_Gumble: That\\'s all right. I couldn\\'t have led a richer life.\\nBarney_Gumble: So the next time somebody tells you county folk are good, honest people, you can spit in their faces for me!\\nLisa_Simpson: I will, Mr. Gumbel. But if you\\'ll excuse me, I\\'m profiling my dad for the school paper. I thought it would be neat to follow him around for a day to see what makes him tick.\\nBarney_Gumble: Oh, that\\'s sweet. I used to follow my dad to a lot of bars too. (BELCH)\\nMoe_Szyslak: Here you go. One beer, one chocolate milk.\\nLisa_Simpson: Uh, excuse me, I have the chocolate milk.\\nMoe_Szyslak: Oh.\\nMoe_Szyslak: What\\'s the matter, Homer? The depressin\\' effects of alcohol usually don\\'t kick in \\'til closing time.\\nLisa_Simpson: He\\'s just a little nervous. (PROUDLY) He has to give a speech tomorrow on \"H'"
      ]
     },
     "execution_count": 12,
     "metadata": {},
     "output_type": "execute_result"
    }
   ],
   "source": [
    "text[:2000]"
   ]
  },
  {
   "cell_type": "code",
   "execution_count": 13,
   "metadata": {
    "collapsed": false,
    "deletable": true,
    "editable": true
   },
   "outputs": [
    {
     "name": "stdout",
     "output_type": "stream",
     "text": [
      "Dataset Stats\n",
      "Roughly the number of unique words: 11492\n",
      "Number of scenes: 262\n",
      "Average number of sentences in each scene: 15.248091603053435\n",
      "Number of lines: 4257\n",
      "Average number of words in each line: 11.50434578341555\n",
      "\n",
      "The sentences 0 to 10:\n",
      "Moe_Szyslak: (INTO PHONE) Moe's Tavern. Where the elite meet to drink.\n",
      "Bart_Simpson: Eh, yeah, hello, is Mike there? Last name, Rotch.\n",
      "Moe_Szyslak: (INTO PHONE) Hold on, I'll check. (TO BARFLIES) Mike Rotch. Mike Rotch. Hey, has anybody seen Mike Rotch, lately?\n",
      "Moe_Szyslak: (INTO PHONE) Listen you little puke. One of these days I'm gonna catch you, and I'm gonna carve my name on your back with an ice pick.\n",
      "Moe_Szyslak: What's the matter Homer? You're not your normal effervescent self.\n",
      "Homer_Simpson: I got my problems, Moe. Give me another one.\n",
      "Moe_Szyslak: Homer, hey, you should not drink to forget your problems.\n",
      "Barney_Gumble: Yeah, you should only drink to enhance your social skills.\n",
      "\n",
      "\n"
     ]
    }
   ],
   "source": [
    "view_sentence_range = (0, 10)\n",
    "\n",
    "\"\"\"\n",
    "DON'T MODIFY ANYTHING IN THIS CELL\n",
    "\"\"\"\n",
    "import numpy as np\n",
    "\n",
    "print('Dataset Stats')\n",
    "print('Roughly the number of unique words: {}'.format(len({word: None for word in text.split()})))\n",
    "scenes = text.split('\\n\\n')\n",
    "print('Number of scenes: {}'.format(len(scenes)))\n",
    "sentence_count_scene = [scene.count('\\n') for scene in scenes]\n",
    "print('Average number of sentences in each scene: {}'.format(np.average(sentence_count_scene)))\n",
    "\n",
    "sentences = [sentence for scene in scenes for sentence in scene.split('\\n')]\n",
    "print('Number of lines: {}'.format(len(sentences)))\n",
    "word_count_sentence = [len(sentence.split()) for sentence in sentences]\n",
    "print('Average number of words in each line: {}'.format(np.average(word_count_sentence)))\n",
    "\n",
    "print()\n",
    "print('The sentences {} to {}:'.format(*view_sentence_range))\n",
    "print('\\n'.join(text.split('\\n')[view_sentence_range[0]:view_sentence_range[1]]))"
   ]
  },
  {
   "cell_type": "markdown",
   "metadata": {
    "deletable": true,
    "editable": true
   },
   "source": [
    "## Implement Preprocessing Functions\n",
    "The first thing to do to any dataset is preprocessing.  Implement the following preprocessing functions below:\n",
    "- Lookup Table\n",
    "- Tokenize Punctuation\n",
    "\n",
    "### Lookup Table\n",
    "To create a word embedding, you first need to transform the words to ids.  In this function, create two dictionaries:\n",
    "- Dictionary to go from the words to an id, we'll call `vocab_to_int`\n",
    "- Dictionary to go from the id to word, we'll call `int_to_vocab`\n",
    "\n",
    "Return these dictionaries in the following tuple `(vocab_to_int, int_to_vocab)`"
   ]
  },
  {
   "cell_type": "code",
   "execution_count": 42,
   "metadata": {
    "collapsed": false,
    "deletable": true,
    "editable": true
   },
   "outputs": [
    {
     "name": "stdout",
     "output_type": "stream",
     "text": [
      "Tests Passed\n"
     ]
    }
   ],
   "source": [
    "import numpy as np\n",
    "import problem_unittests as tests\n",
    "\n",
    "def create_lookup_tables(text):\n",
    "    \"\"\"\n",
    "    Create lookup tables for vocabulary\n",
    "    :param text: The text of tv scripts split into words\n",
    "    :return: A tuple of dicts (vocab_to_int, int_to_vocab)\n",
    "    \"\"\"\n",
    "    from collections import Counter\n",
    "    words = Counter(text)\n",
    "    sorted_words = sorted(words,key=words.get,reverse=True)\n",
    "    int_to_vocab = {i: word for i, word in enumerate(sorted_words)}\n",
    "    vocab_to_int = {word : i for i,word in int_to_vocab.items()}\n",
    "\n",
    "    return vocab_to_int, int_to_vocab\n",
    "\n",
    "\n",
    "\"\"\"\n",
    "DON'T MODIFY ANYTHING IN THIS CELL THAT IS BELOW THIS LINE\n",
    "\"\"\"\n",
    "tests.test_create_lookup_tables(create_lookup_tables)"
   ]
  },
  {
   "cell_type": "markdown",
   "metadata": {
    "deletable": true,
    "editable": true
   },
   "source": [
    "### Tokenize Punctuation\n",
    "We'll be splitting the script into a word array using spaces as delimiters.  However, punctuations like periods and exclamation marks make it hard for the neural network to distinguish between the word \"bye\" and \"bye!\".\n",
    "\n",
    "Implement the function `token_lookup` to return a dict that will be used to tokenize symbols like \"!\" into \"||Exclamation_Mark||\".  Create a dictionary for the following symbols where the symbol is the key and value is the token:\n",
    "- Period ( . )\n",
    "- Comma ( , )\n",
    "- Quotation Mark ( \" )\n",
    "- Semicolon ( ; )\n",
    "- Exclamation mark ( ! )\n",
    "- Question mark ( ? )\n",
    "- Left Parentheses ( ( )\n",
    "- Right Parentheses ( ) )\n",
    "- Dash ( -- )\n",
    "- Return ( \\n )\n",
    "\n",
    "This dictionary will be used to token the symbols and add the delimiter (space) around it.  This separates the symbols as it's own word, making it easier for the neural network to predict on the next word. Make sure you don't use a token that could be confused as a word. Instead of using the token \"dash\", try using something like \"||dash||\"."
   ]
  },
  {
   "cell_type": "code",
   "execution_count": 59,
   "metadata": {
    "collapsed": false,
    "deletable": true,
    "editable": true
   },
   "outputs": [
    {
     "name": "stdout",
     "output_type": "stream",
     "text": [
      "Tests Passed\n"
     ]
    }
   ],
   "source": [
    "def token_lookup():\n",
    "    \"\"\"\n",
    "    Generate a dict to turn punctuation into a token.\n",
    "    :return: Tokenize dictionary where the key is the punctuation and the value is the token\n",
    "    \"\"\"\n",
    "    punctuation_symbols = ['.',',','\\\"',';','!','?','(',')','--','\\n']\n",
    "    punctuation_tokens = ['||Period||','||Comma||','||Quotation_Mark||','||Semicolon||','||Exclamation_Mark||',\n",
    "                         '||Question_Mark||','||Left_Parentheses||','||Right_Parentheses||','||Dash||',\n",
    "                         '||Return||']\n",
    "    return {ps:pt for ps,pt in zip(punctuation_symbols,punctuation_tokens)}\n",
    "\n",
    "\n",
    "\"\"\"\n",
    "DON'T MODIFY ANYTHING IN THIS CELL THAT IS BELOW THIS LINE\n",
    "\"\"\"\n",
    "tests.test_tokenize(token_lookup)"
   ]
  },
  {
   "cell_type": "markdown",
   "metadata": {
    "deletable": true,
    "editable": true
   },
   "source": [
    "## Preprocess all the data and save it\n",
    "Running the code cell below will preprocess all the data and save it to file."
   ]
  },
  {
   "cell_type": "code",
   "execution_count": 60,
   "metadata": {
    "collapsed": false,
    "deletable": true,
    "editable": true
   },
   "outputs": [],
   "source": [
    "\"\"\"\n",
    "DON'T MODIFY ANYTHING IN THIS CELL\n",
    "\"\"\"\n",
    "# Preprocess Training, Validation, and Testing Data\n",
    "helper.preprocess_and_save_data(data_dir, token_lookup, create_lookup_tables)"
   ]
  },
  {
   "cell_type": "markdown",
   "metadata": {
    "deletable": true,
    "editable": true
   },
   "source": [
    "# Check Point\n",
    "This is your first checkpoint. If you ever decide to come back to this notebook or have to restart the notebook, you can start from here. The preprocessed data has been saved to disk."
   ]
  },
  {
   "cell_type": "code",
   "execution_count": 1,
   "metadata": {
    "collapsed": false,
    "deletable": true,
    "editable": true
   },
   "outputs": [],
   "source": [
    "\"\"\"\n",
    "DON'T MODIFY ANYTHING IN THIS CELL\n",
    "\"\"\"\n",
    "import helper\n",
    "import numpy as np\n",
    "import problem_unittests as tests\n",
    "\n",
    "int_text, vocab_to_int, int_to_vocab, token_dict = helper.load_preprocess()"
   ]
  },
  {
   "cell_type": "markdown",
   "metadata": {
    "deletable": true,
    "editable": true
   },
   "source": [
    "## Build the Neural Network\n",
    "You'll build the components necessary to build a RNN by implementing the following functions below:\n",
    "- get_inputs\n",
    "- get_init_cell\n",
    "- get_embed\n",
    "- build_rnn\n",
    "- build_nn\n",
    "- get_batches\n",
    "\n",
    "### Check the Version of TensorFlow and Access to GPU"
   ]
  },
  {
   "cell_type": "code",
   "execution_count": 2,
   "metadata": {
    "collapsed": false,
    "deletable": true,
    "editable": true
   },
   "outputs": [
    {
     "name": "stdout",
     "output_type": "stream",
     "text": [
      "TensorFlow Version: 1.0.0\n",
      "Default GPU Device: /gpu:0\n"
     ]
    }
   ],
   "source": [
    "\"\"\"\n",
    "DON'T MODIFY ANYTHING IN THIS CELL\n",
    "\"\"\"\n",
    "from distutils.version import LooseVersion\n",
    "import warnings\n",
    "import tensorflow as tf\n",
    "\n",
    "# Check TensorFlow Version\n",
    "assert LooseVersion(tf.__version__) >= LooseVersion('1.0'), 'Please use TensorFlow version 1.0 or newer'\n",
    "print('TensorFlow Version: {}'.format(tf.__version__))\n",
    "\n",
    "# Check for a GPU\n",
    "if not tf.test.gpu_device_name():\n",
    "    warnings.warn('No GPU found. Please use a GPU to train your neural network.')\n",
    "else:\n",
    "    print('Default GPU Device: {}'.format(tf.test.gpu_device_name()))"
   ]
  },
  {
   "cell_type": "markdown",
   "metadata": {
    "deletable": true,
    "editable": true
   },
   "source": [
    "### Input\n",
    "Implement the `get_inputs()` function to create TF Placeholders for the Neural Network.  It should create the following placeholders:\n",
    "- Input text placeholder named \"input\" using the [TF Placeholder](https://www.tensorflow.org/api_docs/python/tf/placeholder) `name` parameter.\n",
    "- Targets placeholder\n",
    "- Learning Rate placeholder\n",
    "\n",
    "Return the placeholders in the following tuple `(Input, Targets, LearningRate)`"
   ]
  },
  {
   "cell_type": "code",
   "execution_count": 3,
   "metadata": {
    "collapsed": false,
    "deletable": true,
    "editable": true
   },
   "outputs": [
    {
     "name": "stdout",
     "output_type": "stream",
     "text": [
      "Tests Passed\n"
     ]
    }
   ],
   "source": [
    "def get_inputs():\n",
    "    \"\"\"\n",
    "    Create TF Placeholders for input, targets, and learning rate.\n",
    "    :return: Tuple (input, targets, learning rate)\n",
    "    \"\"\"\n",
    "    inputs = tf.placeholder(tf.int32,[None,None],name='input')\n",
    "    labels = tf.placeholder(tf.int32,[None,None],name='targets')\n",
    "    learning_rate = tf.placeholder(tf.float32,name='learning_rate')\n",
    "    return inputs, labels, learning_rate\n",
    "\n",
    "\n",
    "\"\"\"\n",
    "DON'T MODIFY ANYTHING IN THIS CELL THAT IS BELOW THIS LINE\n",
    "\"\"\"\n",
    "tests.test_get_inputs(get_inputs)"
   ]
  },
  {
   "cell_type": "markdown",
   "metadata": {
    "deletable": true,
    "editable": true
   },
   "source": [
    "### Build RNN Cell and Initialize\n",
    "Stack one or more [`BasicLSTMCells`](https://www.tensorflow.org/api_docs/python/tf/contrib/rnn/BasicLSTMCell) in a [`MultiRNNCell`](https://www.tensorflow.org/api_docs/python/tf/contrib/rnn/MultiRNNCell).\n",
    "- The Rnn size should be set using `rnn_size`\n",
    "- Initalize Cell State using the MultiRNNCell's [`zero_state()`](https://www.tensorflow.org/api_docs/python/tf/contrib/rnn/MultiRNNCell#zero_state) function\n",
    "    - Apply the name \"initial_state\" to the initial state using [`tf.identity()`](https://www.tensorflow.org/api_docs/python/tf/identity)\n",
    "\n",
    "Return the cell and initial state in the following tuple `(Cell, InitialState)`"
   ]
  },
  {
   "cell_type": "code",
   "execution_count": 4,
   "metadata": {
    "collapsed": false,
    "deletable": true,
    "editable": true
   },
   "outputs": [
    {
     "name": "stdout",
     "output_type": "stream",
     "text": [
      "Tests Passed\n"
     ]
    }
   ],
   "source": [
    "def get_init_cell(batch_size, rnn_size):\n",
    "    \"\"\"\n",
    "    Create an RNN Cell and initialize it.\n",
    "    :param batch_size: Size of batches\n",
    "    :param rnn_size: Size of RNNs\n",
    "    :return: Tuple (cell, initialize state)\n",
    "    \"\"\"\n",
    "    lstm = tf.contrib.rnn.BasicLSTMCell(rnn_size)\n",
    "    cell = tf.contrib.rnn.MultiRNNCell([lstm] * 2)\n",
    "    initial_state = cell.zero_state(batch_size,tf.float32)\n",
    "    initial_state = tf.identity(initial_state,name='initial_state')\n",
    "    \n",
    "    return cell, initial_state\n",
    "\n",
    "\n",
    "\"\"\"\n",
    "DON'T MODIFY ANYTHING IN THIS CELL THAT IS BELOW THIS LINE\n",
    "\"\"\"\n",
    "tests.test_get_init_cell(get_init_cell)"
   ]
  },
  {
   "cell_type": "markdown",
   "metadata": {
    "deletable": true,
    "editable": true
   },
   "source": [
    "### Word Embedding\n",
    "Apply embedding to `input_data` using TensorFlow.  Return the embedded sequence."
   ]
  },
  {
   "cell_type": "code",
   "execution_count": 5,
   "metadata": {
    "collapsed": false,
    "deletable": true,
    "editable": true
   },
   "outputs": [
    {
     "name": "stdout",
     "output_type": "stream",
     "text": [
      "Tests Passed\n"
     ]
    }
   ],
   "source": [
    "def get_embed(input_data, vocab_size, embed_dim):\n",
    "    \"\"\"\n",
    "    Create embedding for <input_data>.\n",
    "    :param input_data: TF placeholder for text input.\n",
    "    :param vocab_size: Number of words in vocabulary.\n",
    "    :param embed_dim: Number of embedding dimensions\n",
    "    :return: Embedded input.\n",
    "    \"\"\"\n",
    "    embedding = tf.Variable(tf.random_uniform([vocab_size,embed_dim],-1.0,1.0))\n",
    "    embed = tf.nn.embedding_lookup(embedding,input_data)\n",
    "  \n",
    "    return embed\n",
    "\n",
    "\n",
    "\"\"\"\n",
    "DON'T MODIFY ANYTHING IN THIS CELL THAT IS BELOW THIS LINE\n",
    "\"\"\"\n",
    "tests.test_get_embed(get_embed)"
   ]
  },
  {
   "cell_type": "markdown",
   "metadata": {
    "deletable": true,
    "editable": true
   },
   "source": [
    "### Build RNN\n",
    "You created a RNN Cell in the `get_init_cell()` function.  Time to use the cell to create a RNN.\n",
    "- Build the RNN using the [`tf.nn.dynamic_rnn()`](https://www.tensorflow.org/api_docs/python/tf/nn/dynamic_rnn)\n",
    " - Apply the name \"final_state\" to the final state using [`tf.identity()`](https://www.tensorflow.org/api_docs/python/tf/identity)\n",
    "\n",
    "Return the outputs and final_state state in the following tuple `(Outputs, FinalState)` "
   ]
  },
  {
   "cell_type": "code",
   "execution_count": 6,
   "metadata": {
    "collapsed": false,
    "deletable": true,
    "editable": true
   },
   "outputs": [
    {
     "name": "stdout",
     "output_type": "stream",
     "text": [
      "Tests Passed\n"
     ]
    }
   ],
   "source": [
    "def build_rnn(cell, inputs):\n",
    "    \"\"\"\n",
    "    Create a RNN using a RNN Cell\n",
    "    :param cell: RNN Cell\n",
    "    :param inputs: Input text data\n",
    "    :return: Tuple (Outputs, Final State)\n",
    "    \"\"\"\n",
    "    outputs, final_state = tf.nn.dynamic_rnn(cell, inputs,dtype=tf.float32)\n",
    "    final_state = tf.identity(final_state,'final_state')\n",
    "    return outputs, final_state\n",
    "\n",
    "\n",
    "\"\"\"\n",
    "DON'T MODIFY ANYTHING IN THIS CELL THAT IS BELOW THIS LINE\n",
    "\"\"\"\n",
    "tests.test_build_rnn(build_rnn)"
   ]
  },
  {
   "cell_type": "markdown",
   "metadata": {
    "deletable": true,
    "editable": true
   },
   "source": [
    "### Build the Neural Network\n",
    "Apply the functions you implemented above to:\n",
    "- Apply embedding to `input_data` using your `get_embed(input_data, vocab_size, embed_dim)` function.\n",
    "- Build RNN using `cell` and your `build_rnn(cell, inputs)` function.\n",
    "- Apply a fully connected layer with a linear activation and `vocab_size` as the number of outputs.\n",
    "\n",
    "Return the logits and final state in the following tuple (Logits, FinalState) "
   ]
  },
  {
   "cell_type": "code",
   "execution_count": 7,
   "metadata": {
    "collapsed": false,
    "deletable": true,
    "editable": true
   },
   "outputs": [
    {
     "name": "stdout",
     "output_type": "stream",
     "text": [
      "Tests Passed\n"
     ]
    }
   ],
   "source": [
    "def build_nn(cell, rnn_size, input_data, vocab_size, embed_dim):\n",
    "    \"\"\"\n",
    "    Build part of the neural network\n",
    "    :param cell: RNN cell\n",
    "    :param rnn_size: Size of rnns\n",
    "    :param input_data: Input data\n",
    "    :param vocab_size: Vocabulary size\n",
    "    :param embed_dim: Number of embedding dimensions\n",
    "    :return: Tuple (Logits, FinalState)\n",
    "    \"\"\"\n",
    "    embed = get_embed(input_data,vocab_size,embed_dim)\n",
    "    outputs,final_state = build_rnn(cell,embed)\n",
    "    logits = tf.contrib.layers.fully_connected(outputs,vocab_size)\n",
    "    return logits, final_state\n",
    "\n",
    "\n",
    "\"\"\"\n",
    "DON'T MODIFY ANYTHING IN THIS CELL THAT IS BELOW THIS LINE\n",
    "\"\"\"\n",
    "tests.test_build_nn(build_nn)"
   ]
  },
  {
   "cell_type": "markdown",
   "metadata": {
    "deletable": true,
    "editable": true
   },
   "source": [
    "### Batches\n",
    "Implement `get_batches` to create batches of input and targets using `int_text`.  The batches should be a Numpy array with the shape `(number of batches, 2, batch size, sequence length)`. Each batch contains two elements:\n",
    "- The first element is a single batch of **input** with the shape `[batch size, sequence length]`\n",
    "- The second element is a single batch of **targets** with the shape `[batch size, sequence length]`\n",
    "\n",
    "If you can't fill the last batch with enough data, drop the last batch.\n",
    "\n",
    "For exmple, `get_batches([1, 2, 3, 4, 5, 6, 7, 8, 9, 10, 11, 12, 13, 14, 15], 2, 3)` would return a Numpy array of the following:\n",
    "```\n",
    "[\n",
    "  # First Batch\n",
    "  [\n",
    "    # Batch of Input\n",
    "    [[ 1  2  3], [ 7  8  9]],\n",
    "    # Batch of targets\n",
    "    [[ 2  3  4], [ 8  9 10]]\n",
    "  ],\n",
    " \n",
    "  # Second Batch\n",
    "  [\n",
    "    # Batch of Input\n",
    "    [[ 4  5  6], [10 11 12]],\n",
    "    # Batch of targets\n",
    "    [[ 5  6  7], [11 12 13]]\n",
    "  ]\n",
    "]\n",
    "```"
   ]
  },
  {
   "cell_type": "code",
   "execution_count": 41,
   "metadata": {
    "collapsed": false,
    "deletable": true,
    "editable": true
   },
   "outputs": [
    {
     "name": "stdout",
     "output_type": "stream",
     "text": [
      "Tests Passed\n"
     ]
    }
   ],
   "source": [
    "def get_batches(int_text, batch_size, seq_length):\n",
    "    \"\"\"\n",
    "    Return batches of input and target\n",
    "    :param int_text: Text with the words replaced by their ids\n",
    "    :param batch_size: The size of batch\n",
    "    :param seq_length: The length of sequence\n",
    "    :return: Batches as a Numpy array\n",
    "    \"\"\"\n",
    "    number_batches = len(int_text) // (batch_size * seq_length)\n",
    "    np_output = np.zeros([number_batches,2,batch_size,seq_length])\n",
    "    k = 0\n",
    "    for i in range(batch_size):\n",
    "        for batch in range(number_batches):\n",
    "            for j in range(seq_length):\n",
    "                np_output[batch][0][i][j] = int_text[k]\n",
    "                np_output[batch][1][i][j] = int_text[k+1]\n",
    "                k += 1\n",
    "                \n",
    "    return np_output\n",
    "\n",
    "\n",
    "\"\"\"\n",
    "DON'T MODIFY ANYTHING IN THIS CELL THAT IS BELOW THIS LINE\n",
    "\"\"\"\n",
    "tests.test_get_batches(get_batches)"
   ]
  },
  {
   "cell_type": "markdown",
   "metadata": {
    "deletable": true,
    "editable": true
   },
   "source": [
    "## Neural Network Training\n",
    "### Hyperparameters\n",
    "Tune the following parameters:\n",
    "\n",
    "- Set `num_epochs` to the number of epochs.\n",
    "- Set `batch_size` to the batch size.\n",
    "- Set `rnn_size` to the size of the RNNs.\n",
    "- Set `embed_dim` to the size of the embedding.\n",
    "- Set `seq_length` to the length of sequence.\n",
    "- Set `learning_rate` to the learning rate.\n",
    "- Set `show_every_n_batches` to the number of batches the neural network should print progress."
   ]
  },
  {
   "cell_type": "code",
   "execution_count": 23,
   "metadata": {
    "collapsed": true,
    "deletable": true,
    "editable": true
   },
   "outputs": [],
   "source": [
    "# Number of Epochs\n",
    "num_epochs = 100\n",
    "# Batch Size\n",
    "batch_size = 100\n",
    "# RNN Size\n",
    "rnn_size = 256\n",
    "# Embedding Dimension Size\n",
    "embed_dim = 250\n",
    "# Sequence Length\n",
    "seq_length = 20\n",
    "# Learning Rate\n",
    "learning_rate = 0.01\n",
    "# Show stats for every n number of batches\n",
    "show_every_n_batches = 10\n",
    "\n",
    "\"\"\"\n",
    "DON'T MODIFY ANYTHING IN THIS CELL THAT IS BELOW THIS LINE\n",
    "\"\"\"\n",
    "save_dir = './save'"
   ]
  },
  {
   "cell_type": "markdown",
   "metadata": {
    "deletable": true,
    "editable": true
   },
   "source": [
    "### Build the Graph\n",
    "Build the graph using the neural network you implemented."
   ]
  },
  {
   "cell_type": "code",
   "execution_count": 24,
   "metadata": {
    "collapsed": false,
    "deletable": true,
    "editable": true
   },
   "outputs": [],
   "source": [
    "\"\"\"\n",
    "DON'T MODIFY ANYTHING IN THIS CELL\n",
    "\"\"\"\n",
    "from tensorflow.contrib import seq2seq\n",
    "\n",
    "train_graph = tf.Graph()\n",
    "with train_graph.as_default():\n",
    "    vocab_size = len(int_to_vocab)\n",
    "    input_text, targets, lr = get_inputs()\n",
    "    input_data_shape = tf.shape(input_text)\n",
    "    cell, initial_state = get_init_cell(input_data_shape[0], rnn_size)\n",
    "    logits, final_state = build_nn(cell, rnn_size, input_text, vocab_size, embed_dim)\n",
    "\n",
    "    # Probabilities for generating words\n",
    "    probs = tf.nn.softmax(logits, name='probs')\n",
    "\n",
    "    # Loss function\n",
    "    cost = seq2seq.sequence_loss(\n",
    "        logits,\n",
    "        targets,\n",
    "        tf.ones([input_data_shape[0], input_data_shape[1]]))\n",
    "\n",
    "    # Optimizer\n",
    "    optimizer = tf.train.AdamOptimizer(lr)\n",
    "\n",
    "    # Gradient Clipping\n",
    "    gradients = optimizer.compute_gradients(cost)\n",
    "    capped_gradients = [(tf.clip_by_value(grad, -1., 1.), var) for grad, var in gradients if grad is not None]\n",
    "    train_op = optimizer.apply_gradients(capped_gradients)"
   ]
  },
  {
   "cell_type": "markdown",
   "metadata": {
    "deletable": true,
    "editable": true
   },
   "source": [
    "## Train\n",
    "Train the neural network on the preprocessed data.  If you have a hard time getting a good loss, check the [forms](https://discussions.udacity.com/) to see if anyone is having the same problem."
   ]
  },
  {
   "cell_type": "code",
   "execution_count": 25,
   "metadata": {
    "collapsed": false,
    "deletable": true,
    "editable": true
   },
   "outputs": [
    {
     "name": "stdout",
     "output_type": "stream",
     "text": [
      "Epoch   0 Batch    0/34   train_loss = 8.821\n",
      "Epoch   0 Batch   10/34   train_loss = 6.530\n",
      "Epoch   0 Batch   20/34   train_loss = 6.370\n",
      "Epoch   0 Batch   30/34   train_loss = 6.244\n",
      "Epoch   1 Batch    6/34   train_loss = 6.260\n",
      "Epoch   1 Batch   16/34   train_loss = 6.473\n",
      "Epoch   1 Batch   26/34   train_loss = 6.271\n",
      "Epoch   2 Batch    2/34   train_loss = 6.224\n",
      "Epoch   2 Batch   12/34   train_loss = 6.183\n",
      "Epoch   2 Batch   22/34   train_loss = 6.204\n",
      "Epoch   2 Batch   32/34   train_loss = 6.223\n",
      "Epoch   3 Batch    8/34   train_loss = 6.058\n",
      "Epoch   3 Batch   18/34   train_loss = 6.030\n",
      "Epoch   3 Batch   28/34   train_loss = 6.088\n",
      "Epoch   4 Batch    4/34   train_loss = 5.949\n",
      "Epoch   4 Batch   14/34   train_loss = 6.031\n",
      "Epoch   4 Batch   24/34   train_loss = 5.875\n",
      "Epoch   5 Batch    0/34   train_loss = 5.870\n",
      "Epoch   5 Batch   10/34   train_loss = 5.933\n",
      "Epoch   5 Batch   20/34   train_loss = 5.779\n",
      "Epoch   5 Batch   30/34   train_loss = 5.712\n",
      "Epoch   6 Batch    6/34   train_loss = 5.632\n",
      "Epoch   6 Batch   16/34   train_loss = 5.879\n",
      "Epoch   6 Batch   26/34   train_loss = 5.645\n",
      "Epoch   7 Batch    2/34   train_loss = 5.594\n",
      "Epoch   7 Batch   12/34   train_loss = 5.534\n",
      "Epoch   7 Batch   22/34   train_loss = 5.565\n",
      "Epoch   7 Batch   32/34   train_loss = 5.620\n",
      "Epoch   8 Batch    8/34   train_loss = 5.425\n",
      "Epoch   8 Batch   18/34   train_loss = 5.474\n",
      "Epoch   8 Batch   28/34   train_loss = 5.518\n",
      "Epoch   9 Batch    4/34   train_loss = 5.366\n",
      "Epoch   9 Batch   14/34   train_loss = 5.450\n",
      "Epoch   9 Batch   24/34   train_loss = 5.316\n",
      "Epoch  10 Batch    0/34   train_loss = 5.250\n",
      "Epoch  10 Batch   10/34   train_loss = 5.432\n",
      "Epoch  10 Batch   20/34   train_loss = 5.329\n",
      "Epoch  10 Batch   30/34   train_loss = 5.284\n",
      "Epoch  11 Batch    6/34   train_loss = 5.213\n",
      "Epoch  11 Batch   16/34   train_loss = 5.498\n",
      "Epoch  11 Batch   26/34   train_loss = 5.271\n",
      "Epoch  12 Batch    2/34   train_loss = 5.263\n",
      "Epoch  12 Batch   12/34   train_loss = 5.195\n",
      "Epoch  12 Batch   22/34   train_loss = 5.239\n",
      "Epoch  12 Batch   32/34   train_loss = 5.284\n",
      "Epoch  13 Batch    8/34   train_loss = 5.153\n",
      "Epoch  13 Batch   18/34   train_loss = 5.140\n",
      "Epoch  13 Batch   28/34   train_loss = 5.218\n",
      "Epoch  14 Batch    4/34   train_loss = 5.068\n",
      "Epoch  14 Batch   14/34   train_loss = 5.154\n",
      "Epoch  14 Batch   24/34   train_loss = 5.013\n",
      "Epoch  15 Batch    0/34   train_loss = 4.971\n",
      "Epoch  15 Batch   10/34   train_loss = 5.161\n",
      "Epoch  15 Batch   20/34   train_loss = 5.091\n",
      "Epoch  15 Batch   30/34   train_loss = 5.021\n",
      "Epoch  16 Batch    6/34   train_loss = 4.974\n",
      "Epoch  16 Batch   16/34   train_loss = 5.225\n",
      "Epoch  16 Batch   26/34   train_loss = 5.043\n",
      "Epoch  17 Batch    2/34   train_loss = 4.991\n",
      "Epoch  17 Batch   12/34   train_loss = 4.956\n",
      "Epoch  17 Batch   22/34   train_loss = 4.979\n",
      "Epoch  17 Batch   32/34   train_loss = 5.060\n",
      "Epoch  18 Batch    8/34   train_loss = 4.943\n",
      "Epoch  18 Batch   18/34   train_loss = 4.872\n",
      "Epoch  18 Batch   28/34   train_loss = 4.981\n",
      "Epoch  19 Batch    4/34   train_loss = 4.806\n",
      "Epoch  19 Batch   14/34   train_loss = 4.883\n",
      "Epoch  19 Batch   24/34   train_loss = 4.742\n",
      "Epoch  20 Batch    0/34   train_loss = 4.712\n",
      "Epoch  20 Batch   10/34   train_loss = 4.900\n",
      "Epoch  20 Batch   20/34   train_loss = 4.806\n",
      "Epoch  20 Batch   30/34   train_loss = 4.761\n",
      "Epoch  21 Batch    6/34   train_loss = 4.720\n",
      "Epoch  21 Batch   16/34   train_loss = 4.953\n",
      "Epoch  21 Batch   26/34   train_loss = 4.754\n",
      "Epoch  22 Batch    2/34   train_loss = 4.716\n",
      "Epoch  22 Batch   12/34   train_loss = 4.702\n",
      "Epoch  22 Batch   22/34   train_loss = 4.701\n",
      "Epoch  22 Batch   32/34   train_loss = 4.828\n",
      "Epoch  23 Batch    8/34   train_loss = 4.662\n",
      "Epoch  23 Batch   18/34   train_loss = 4.594\n",
      "Epoch  23 Batch   28/34   train_loss = 4.735\n",
      "Epoch  24 Batch    4/34   train_loss = 4.532\n",
      "Epoch  24 Batch   14/34   train_loss = 4.622\n",
      "Epoch  24 Batch   24/34   train_loss = 4.506\n",
      "Epoch  25 Batch    0/34   train_loss = 4.471\n",
      "Epoch  25 Batch   10/34   train_loss = 4.649\n",
      "Epoch  25 Batch   20/34   train_loss = 4.568\n",
      "Epoch  25 Batch   30/34   train_loss = 4.557\n",
      "Epoch  26 Batch    6/34   train_loss = 4.504\n",
      "Epoch  26 Batch   16/34   train_loss = 4.694\n",
      "Epoch  26 Batch   26/34   train_loss = 4.516\n",
      "Epoch  27 Batch    2/34   train_loss = 4.438\n",
      "Epoch  27 Batch   12/34   train_loss = 4.425\n",
      "Epoch  27 Batch   22/34   train_loss = 4.465\n",
      "Epoch  27 Batch   32/34   train_loss = 4.526\n",
      "Epoch  28 Batch    8/34   train_loss = 4.387\n",
      "Epoch  28 Batch   18/34   train_loss = 4.321\n",
      "Epoch  28 Batch   28/34   train_loss = 4.376\n",
      "Epoch  29 Batch    4/34   train_loss = 4.248\n",
      "Epoch  29 Batch   14/34   train_loss = 4.336\n",
      "Epoch  29 Batch   24/34   train_loss = 4.195\n",
      "Epoch  30 Batch    0/34   train_loss = 4.157\n",
      "Epoch  30 Batch   10/34   train_loss = 4.388\n",
      "Epoch  30 Batch   20/34   train_loss = 4.323\n",
      "Epoch  30 Batch   30/34   train_loss = 4.274\n",
      "Epoch  31 Batch    6/34   train_loss = 4.272\n",
      "Epoch  31 Batch   16/34   train_loss = 4.445\n",
      "Epoch  31 Batch   26/34   train_loss = 4.328\n",
      "Epoch  32 Batch    2/34   train_loss = 4.208\n",
      "Epoch  32 Batch   12/34   train_loss = 4.201\n",
      "Epoch  32 Batch   22/34   train_loss = 4.214\n",
      "Epoch  32 Batch   32/34   train_loss = 4.356\n",
      "Epoch  33 Batch    8/34   train_loss = 4.160\n",
      "Epoch  33 Batch   18/34   train_loss = 4.140\n",
      "Epoch  33 Batch   28/34   train_loss = 4.125\n",
      "Epoch  34 Batch    4/34   train_loss = 4.048\n",
      "Epoch  34 Batch   14/34   train_loss = 4.189\n",
      "Epoch  34 Batch   24/34   train_loss = 3.997\n",
      "Epoch  35 Batch    0/34   train_loss = 3.965\n",
      "Epoch  35 Batch   10/34   train_loss = 4.199\n",
      "Epoch  35 Batch   20/34   train_loss = 4.118\n",
      "Epoch  35 Batch   30/34   train_loss = 4.094\n",
      "Epoch  36 Batch    6/34   train_loss = 4.088\n",
      "Epoch  36 Batch   16/34   train_loss = 4.194\n",
      "Epoch  36 Batch   26/34   train_loss = 4.081\n",
      "Epoch  37 Batch    2/34   train_loss = 4.031\n",
      "Epoch  37 Batch   12/34   train_loss = 4.021\n",
      "Epoch  37 Batch   22/34   train_loss = 3.986\n",
      "Epoch  37 Batch   32/34   train_loss = 4.116\n",
      "Epoch  38 Batch    8/34   train_loss = 3.926\n",
      "Epoch  38 Batch   18/34   train_loss = 3.865\n",
      "Epoch  38 Batch   28/34   train_loss = 3.895\n",
      "Epoch  39 Batch    4/34   train_loss = 3.750\n",
      "Epoch  39 Batch   14/34   train_loss = 3.958\n",
      "Epoch  39 Batch   24/34   train_loss = 3.767\n",
      "Epoch  40 Batch    0/34   train_loss = 3.734\n",
      "Epoch  40 Batch   10/34   train_loss = 3.946\n",
      "Epoch  40 Batch   20/34   train_loss = 3.901\n",
      "Epoch  40 Batch   30/34   train_loss = 3.862\n",
      "Epoch  41 Batch    6/34   train_loss = 3.861\n",
      "Epoch  41 Batch   16/34   train_loss = 3.978\n",
      "Epoch  41 Batch   26/34   train_loss = 3.843\n",
      "Epoch  42 Batch    2/34   train_loss = 3.769\n",
      "Epoch  42 Batch   12/34   train_loss = 3.810\n",
      "Epoch  42 Batch   22/34   train_loss = 3.731\n",
      "Epoch  42 Batch   32/34   train_loss = 3.908\n",
      "Epoch  43 Batch    8/34   train_loss = 3.712\n",
      "Epoch  43 Batch   18/34   train_loss = 3.672\n",
      "Epoch  43 Batch   28/34   train_loss = 3.708\n",
      "Epoch  44 Batch    4/34   train_loss = 3.550\n",
      "Epoch  44 Batch   14/34   train_loss = 3.768\n",
      "Epoch  44 Batch   24/34   train_loss = 3.531\n",
      "Epoch  45 Batch    0/34   train_loss = 3.479\n",
      "Epoch  45 Batch   10/34   train_loss = 3.744\n",
      "Epoch  45 Batch   20/34   train_loss = 3.727\n",
      "Epoch  45 Batch   30/34   train_loss = 3.697\n",
      "Epoch  46 Batch    6/34   train_loss = 3.692\n",
      "Epoch  46 Batch   16/34   train_loss = 3.831\n",
      "Epoch  46 Batch   26/34   train_loss = 3.710\n",
      "Epoch  47 Batch    2/34   train_loss = 3.645\n",
      "Epoch  47 Batch   12/34   train_loss = 3.660\n",
      "Epoch  47 Batch   22/34   train_loss = 3.583\n",
      "Epoch  47 Batch   32/34   train_loss = 3.769\n",
      "Epoch  48 Batch    8/34   train_loss = 3.577\n",
      "Epoch  48 Batch   18/34   train_loss = 3.551\n",
      "Epoch  48 Batch   28/34   train_loss = 3.598\n",
      "Epoch  49 Batch    4/34   train_loss = 3.411\n",
      "Epoch  49 Batch   14/34   train_loss = 3.651\n",
      "Epoch  49 Batch   24/34   train_loss = 3.410\n",
      "Epoch  50 Batch    0/34   train_loss = 3.348\n",
      "Epoch  50 Batch   10/34   train_loss = 3.589\n",
      "Epoch  50 Batch   20/34   train_loss = 3.622\n",
      "Epoch  50 Batch   30/34   train_loss = 3.589\n",
      "Epoch  51 Batch    6/34   train_loss = 3.609\n",
      "Epoch  51 Batch   16/34   train_loss = 3.758\n",
      "Epoch  51 Batch   26/34   train_loss = 3.616\n",
      "Epoch  52 Batch    2/34   train_loss = 3.553\n",
      "Epoch  52 Batch   12/34   train_loss = 3.570\n",
      "Epoch  52 Batch   22/34   train_loss = 3.514\n",
      "Epoch  52 Batch   32/34   train_loss = 3.718\n",
      "Epoch  53 Batch    8/34   train_loss = 3.484\n",
      "Epoch  53 Batch   18/34   train_loss = 3.510\n",
      "Epoch  53 Batch   28/34   train_loss = 3.481\n",
      "Epoch  54 Batch    4/34   train_loss = 3.302\n",
      "Epoch  54 Batch   14/34   train_loss = 3.588\n",
      "Epoch  54 Batch   24/34   train_loss = 3.311\n",
      "Epoch  55 Batch    0/34   train_loss = 3.283\n",
      "Epoch  55 Batch   10/34   train_loss = 3.533\n",
      "Epoch  55 Batch   20/34   train_loss = 3.575\n",
      "Epoch  55 Batch   30/34   train_loss = 3.540\n",
      "Epoch  56 Batch    6/34   train_loss = 3.523\n",
      "Epoch  56 Batch   16/34   train_loss = 3.677\n",
      "Epoch  56 Batch   26/34   train_loss = 3.525\n",
      "Epoch  57 Batch    2/34   train_loss = 3.469\n",
      "Epoch  57 Batch   12/34   train_loss = 3.499\n",
      "Epoch  57 Batch   22/34   train_loss = 3.449\n",
      "Epoch  57 Batch   32/34   train_loss = 3.609\n",
      "Epoch  58 Batch    8/34   train_loss = 3.397\n",
      "Epoch  58 Batch   18/34   train_loss = 3.404\n",
      "Epoch  58 Batch   28/34   train_loss = 3.429\n",
      "Epoch  59 Batch    4/34   train_loss = 3.184\n",
      "Epoch  59 Batch   14/34   train_loss = 3.494\n",
      "Epoch  59 Batch   24/34   train_loss = 3.185\n",
      "Epoch  60 Batch    0/34   train_loss = 3.167\n",
      "Epoch  60 Batch   10/34   train_loss = 3.411\n",
      "Epoch  60 Batch   20/34   train_loss = 3.408\n",
      "Epoch  60 Batch   30/34   train_loss = 3.397\n",
      "Epoch  61 Batch    6/34   train_loss = 3.384\n",
      "Epoch  61 Batch   16/34   train_loss = 3.552\n",
      "Epoch  61 Batch   26/34   train_loss = 3.397\n",
      "Epoch  62 Batch    2/34   train_loss = 3.324\n",
      "Epoch  62 Batch   12/34   train_loss = 3.361\n",
      "Epoch  62 Batch   22/34   train_loss = 3.271\n",
      "Epoch  62 Batch   32/34   train_loss = 3.460\n",
      "Epoch  63 Batch    8/34   train_loss = 3.200\n",
      "Epoch  63 Batch   18/34   train_loss = 3.255\n",
      "Epoch  63 Batch   28/34   train_loss = 3.239\n",
      "Epoch  64 Batch    4/34   train_loss = 3.039\n",
      "Epoch  64 Batch   14/34   train_loss = 3.355\n",
      "Epoch  64 Batch   24/34   train_loss = 3.029\n",
      "Epoch  65 Batch    0/34   train_loss = 3.011\n",
      "Epoch  65 Batch   10/34   train_loss = 3.277\n",
      "Epoch  65 Batch   20/34   train_loss = 3.281\n",
      "Epoch  65 Batch   30/34   train_loss = 3.272\n",
      "Epoch  66 Batch    6/34   train_loss = 3.281\n",
      "Epoch  66 Batch   16/34   train_loss = 3.438\n",
      "Epoch  66 Batch   26/34   train_loss = 3.280\n",
      "Epoch  67 Batch    2/34   train_loss = 3.221\n",
      "Epoch  67 Batch   12/34   train_loss = 3.245\n",
      "Epoch  67 Batch   22/34   train_loss = 3.161\n",
      "Epoch  67 Batch   32/34   train_loss = 3.349\n",
      "Epoch  68 Batch    8/34   train_loss = 3.106\n",
      "Epoch  68 Batch   18/34   train_loss = 3.174\n",
      "Epoch  68 Batch   28/34   train_loss = 3.162\n",
      "Epoch  69 Batch    4/34   train_loss = 2.951\n",
      "Epoch  69 Batch   14/34   train_loss = 3.299\n",
      "Epoch  69 Batch   24/34   train_loss = 2.949\n",
      "Epoch  70 Batch    0/34   train_loss = 2.951\n",
      "Epoch  70 Batch   10/34   train_loss = 3.217\n",
      "Epoch  70 Batch   20/34   train_loss = 3.189\n",
      "Epoch  70 Batch   30/34   train_loss = 3.198\n",
      "Epoch  71 Batch    6/34   train_loss = 3.205\n",
      "Epoch  71 Batch   16/34   train_loss = 3.360\n",
      "Epoch  71 Batch   26/34   train_loss = 3.223\n",
      "Epoch  72 Batch    2/34   train_loss = 3.160\n",
      "Epoch  72 Batch   12/34   train_loss = 3.209\n",
      "Epoch  72 Batch   22/34   train_loss = 3.112\n",
      "Epoch  72 Batch   32/34   train_loss = 3.318\n",
      "Epoch  73 Batch    8/34   train_loss = 3.055\n",
      "Epoch  73 Batch   18/34   train_loss = 3.121\n",
      "Epoch  73 Batch   28/34   train_loss = 3.114\n",
      "Epoch  74 Batch    4/34   train_loss = 2.912\n",
      "Epoch  74 Batch   14/34   train_loss = 3.246\n",
      "Epoch  74 Batch   24/34   train_loss = 2.895\n",
      "Epoch  75 Batch    0/34   train_loss = 2.877\n",
      "Epoch  75 Batch   10/34   train_loss = 3.179\n",
      "Epoch  75 Batch   20/34   train_loss = 3.134\n",
      "Epoch  75 Batch   30/34   train_loss = 3.139\n",
      "Epoch  76 Batch    6/34   train_loss = 3.171\n",
      "Epoch  76 Batch   16/34   train_loss = 3.341\n",
      "Epoch  76 Batch   26/34   train_loss = 3.190\n",
      "Epoch  77 Batch    2/34   train_loss = 3.123\n",
      "Epoch  77 Batch   12/34   train_loss = 3.182\n",
      "Epoch  77 Batch   22/34   train_loss = 3.065\n",
      "Epoch  77 Batch   32/34   train_loss = 3.275\n",
      "Epoch  78 Batch    8/34   train_loss = 3.019\n",
      "Epoch  78 Batch   18/34   train_loss = 3.081\n",
      "Epoch  78 Batch   28/34   train_loss = 3.077\n",
      "Epoch  79 Batch    4/34   train_loss = 2.866\n",
      "Epoch  79 Batch   14/34   train_loss = 3.229\n",
      "Epoch  79 Batch   24/34   train_loss = 2.864\n",
      "Epoch  80 Batch    0/34   train_loss = 2.845\n",
      "Epoch  80 Batch   10/34   train_loss = 3.143\n",
      "Epoch  80 Batch   20/34   train_loss = 3.090\n",
      "Epoch  80 Batch   30/34   train_loss = 3.108\n",
      "Epoch  81 Batch    6/34   train_loss = 3.124\n",
      "Epoch  81 Batch   16/34   train_loss = 3.320\n",
      "Epoch  81 Batch   26/34   train_loss = 3.138\n",
      "Epoch  82 Batch    2/34   train_loss = 3.090\n",
      "Epoch  82 Batch   12/34   train_loss = 3.126\n",
      "Epoch  82 Batch   22/34   train_loss = 3.031\n",
      "Epoch  82 Batch   32/34   train_loss = 3.231\n",
      "Epoch  83 Batch    8/34   train_loss = 2.974\n",
      "Epoch  83 Batch   18/34   train_loss = 3.049\n",
      "Epoch  83 Batch   28/34   train_loss = 3.037\n",
      "Epoch  84 Batch    4/34   train_loss = 2.836\n",
      "Epoch  84 Batch   14/34   train_loss = 3.192\n",
      "Epoch  84 Batch   24/34   train_loss = 2.831\n",
      "Epoch  85 Batch    0/34   train_loss = 2.798\n",
      "Epoch  85 Batch   10/34   train_loss = 3.115\n",
      "Epoch  85 Batch   20/34   train_loss = 3.055\n",
      "Epoch  85 Batch   30/34   train_loss = 3.076\n",
      "Epoch  86 Batch    6/34   train_loss = 3.096\n",
      "Epoch  86 Batch   16/34   train_loss = 3.284\n",
      "Epoch  86 Batch   26/34   train_loss = 3.114\n",
      "Epoch  87 Batch    2/34   train_loss = 3.056\n",
      "Epoch  87 Batch   12/34   train_loss = 3.111\n",
      "Epoch  87 Batch   22/34   train_loss = 2.993\n",
      "Epoch  87 Batch   32/34   train_loss = 3.213\n",
      "Epoch  88 Batch    8/34   train_loss = 2.947\n",
      "Epoch  88 Batch   18/34   train_loss = 3.018\n",
      "Epoch  88 Batch   28/34   train_loss = 3.010\n",
      "Epoch  89 Batch    4/34   train_loss = 2.818\n",
      "Epoch  89 Batch   14/34   train_loss = 3.175\n",
      "Epoch  89 Batch   24/34   train_loss = 2.809\n",
      "Epoch  90 Batch    0/34   train_loss = 2.778\n",
      "Epoch  90 Batch   10/34   train_loss = 3.088\n",
      "Epoch  90 Batch   20/34   train_loss = 3.029\n",
      "Epoch  90 Batch   30/34   train_loss = 3.054\n",
      "Epoch  91 Batch    6/34   train_loss = 3.079\n",
      "Epoch  91 Batch   16/34   train_loss = 3.274\n",
      "Epoch  91 Batch   26/34   train_loss = 3.097\n",
      "Epoch  92 Batch    2/34   train_loss = 3.041\n",
      "Epoch  92 Batch   12/34   train_loss = 3.094\n",
      "Epoch  92 Batch   22/34   train_loss = 2.973\n",
      "Epoch  92 Batch   32/34   train_loss = 3.197\n",
      "Epoch  93 Batch    8/34   train_loss = 2.931\n",
      "Epoch  93 Batch   18/34   train_loss = 3.005\n",
      "Epoch  93 Batch   28/34   train_loss = 2.998\n",
      "Epoch  94 Batch    4/34   train_loss = 2.800\n",
      "Epoch  94 Batch   14/34   train_loss = 3.164\n",
      "Epoch  94 Batch   24/34   train_loss = 2.792\n",
      "Epoch  95 Batch    0/34   train_loss = 2.764\n",
      "Epoch  95 Batch   10/34   train_loss = 3.073\n",
      "Epoch  95 Batch   20/34   train_loss = 3.014\n",
      "Epoch  95 Batch   30/34   train_loss = 3.043\n",
      "Epoch  96 Batch    6/34   train_loss = 3.067\n",
      "Epoch  96 Batch   16/34   train_loss = 3.269\n",
      "Epoch  96 Batch   26/34   train_loss = 3.083\n",
      "Epoch  97 Batch    2/34   train_loss = 3.031\n",
      "Epoch  97 Batch   12/34   train_loss = 3.081\n",
      "Epoch  97 Batch   22/34   train_loss = 2.957\n",
      "Epoch  97 Batch   32/34   train_loss = 3.192\n",
      "Epoch  98 Batch    8/34   train_loss = 2.919\n",
      "Epoch  98 Batch   18/34   train_loss = 2.999\n",
      "Epoch  98 Batch   28/34   train_loss = 2.989\n",
      "Epoch  99 Batch    4/34   train_loss = 2.796\n",
      "Epoch  99 Batch   14/34   train_loss = 3.154\n",
      "Epoch  99 Batch   24/34   train_loss = 2.785\n",
      "Model Trained and Saved\n"
     ]
    }
   ],
   "source": [
    "\"\"\"\n",
    "DON'T MODIFY ANYTHING IN THIS CELL\n",
    "\"\"\"\n",
    "batches = get_batches(int_text, batch_size, seq_length)\n",
    "\n",
    "with tf.Session(graph=train_graph) as sess:\n",
    "    sess.run(tf.global_variables_initializer())\n",
    "\n",
    "    for epoch_i in range(num_epochs):\n",
    "        state = sess.run(initial_state, {input_text: batches[0][0]})\n",
    "\n",
    "        for batch_i, (x, y) in enumerate(batches):\n",
    "            feed = {\n",
    "                input_text: x,\n",
    "                targets: y,\n",
    "                initial_state: state,\n",
    "                lr: learning_rate}\n",
    "            train_loss, state, _ = sess.run([cost, final_state, train_op], feed)\n",
    "\n",
    "            # Show every <show_every_n_batches> batches\n",
    "            if (epoch_i * len(batches) + batch_i) % show_every_n_batches == 0:\n",
    "                print('Epoch {:>3} Batch {:>4}/{}   train_loss = {:.3f}'.format(\n",
    "                    epoch_i,\n",
    "                    batch_i,\n",
    "                    len(batches),\n",
    "                    train_loss))\n",
    "\n",
    "    # Save Model\n",
    "    saver = tf.train.Saver()\n",
    "    saver.save(sess, save_dir)\n",
    "    print('Model Trained and Saved')"
   ]
  },
  {
   "cell_type": "markdown",
   "metadata": {
    "deletable": true,
    "editable": true
   },
   "source": [
    "## Save Parameters\n",
    "Save `seq_length` and `save_dir` for generating a new TV script."
   ]
  },
  {
   "cell_type": "code",
   "execution_count": 26,
   "metadata": {
    "collapsed": false,
    "deletable": true,
    "editable": true
   },
   "outputs": [],
   "source": [
    "\"\"\"\n",
    "DON'T MODIFY ANYTHING IN THIS CELL\n",
    "\"\"\"\n",
    "# Save parameters for checkpoint\n",
    "helper.save_params((seq_length, save_dir))"
   ]
  },
  {
   "cell_type": "markdown",
   "metadata": {
    "deletable": true,
    "editable": true
   },
   "source": [
    "# Checkpoint"
   ]
  },
  {
   "cell_type": "code",
   "execution_count": 27,
   "metadata": {
    "collapsed": false,
    "deletable": true,
    "editable": true
   },
   "outputs": [],
   "source": [
    "\"\"\"\n",
    "DON'T MODIFY ANYTHING IN THIS CELL\n",
    "\"\"\"\n",
    "import tensorflow as tf\n",
    "import numpy as np\n",
    "import helper\n",
    "import problem_unittests as tests\n",
    "\n",
    "_, vocab_to_int, int_to_vocab, token_dict = helper.load_preprocess()\n",
    "seq_length, load_dir = helper.load_params()"
   ]
  },
  {
   "cell_type": "markdown",
   "metadata": {
    "deletable": true,
    "editable": true
   },
   "source": [
    "## Implement Generate Functions\n",
    "### Get Tensors\n",
    "Get tensors from `loaded_graph` using the function [`get_tensor_by_name()`](https://www.tensorflow.org/api_docs/python/tf/Graph#get_tensor_by_name).  Get the tensors using the following names:\n",
    "- \"input:0\"\n",
    "- \"initial_state:0\"\n",
    "- \"final_state:0\"\n",
    "- \"probs:0\"\n",
    "\n",
    "Return the tensors in the following tuple `(InputTensor, InitialStateTensor, FinalStateTensor, ProbsTensor)` "
   ]
  },
  {
   "cell_type": "code",
   "execution_count": 30,
   "metadata": {
    "collapsed": false,
    "deletable": true,
    "editable": true
   },
   "outputs": [
    {
     "name": "stdout",
     "output_type": "stream",
     "text": [
      "Tests Passed\n"
     ]
    }
   ],
   "source": [
    "def get_tensors(loaded_graph):\n",
    "    \"\"\"\n",
    "    Get input, initial state, final state, and probabilities tensor from <loaded_graph>\n",
    "    :param loaded_graph: TensorFlow graph loaded from file\n",
    "    :return: Tuple (InputTensor, InitialStateTensor, FinalStateTensor, ProbsTensor)\n",
    "    \"\"\"\n",
    "    input_tensor = loaded_graph.get_tensor_by_name('input:0')\n",
    "    initial_state_tensor = loaded_graph.get_tensor_by_name('initial_state:0')\n",
    "    final_state_tensor = loaded_graph.get_tensor_by_name('final_state:0')\n",
    "    probs_tensor = loaded_graph.get_tensor_by_name('probs:0')\n",
    "    return input_tensor, initial_state_tensor, final_state_tensor, probs_tensor\n",
    "\n",
    "\n",
    "\"\"\"\n",
    "DON'T MODIFY ANYTHING IN THIS CELL THAT IS BELOW THIS LINE\n",
    "\"\"\"\n",
    "tests.test_get_tensors(get_tensors)"
   ]
  },
  {
   "cell_type": "markdown",
   "metadata": {
    "deletable": true,
    "editable": true
   },
   "source": [
    "### Choose Word\n",
    "Implement the `pick_word()` function to select the next word using `probabilities`."
   ]
  },
  {
   "cell_type": "code",
   "execution_count": 42,
   "metadata": {
    "collapsed": false,
    "deletable": true,
    "editable": true
   },
   "outputs": [
    {
     "name": "stdout",
     "output_type": "stream",
     "text": [
      "Tests Passed\n"
     ]
    }
   ],
   "source": [
    "def pick_word(probabilities, int_to_vocab):\n",
    "    \"\"\"\n",
    "    Pick the next word in the generated text\n",
    "    :param probabilities: Probabilites of the next word\n",
    "    :param int_to_vocab: Dictionary of word ids as the keys and words as the values\n",
    "    :return: String of the predicted word\n",
    "    \"\"\"\n",
    "    i_max = np.argmax(probabilities)\n",
    "    return int_to_vocab[i_max]\n",
    "\n",
    "\n",
    "\"\"\"\n",
    "DON'T MODIFY ANYTHING IN THIS CELL THAT IS BELOW THIS LINE\n",
    "\"\"\"\n",
    "tests.test_pick_word(pick_word)"
   ]
  },
  {
   "cell_type": "code",
   "execution_count": null,
   "metadata": {
    "collapsed": true
   },
   "outputs": [],
   "source": []
  },
  {
   "cell_type": "markdown",
   "metadata": {
    "deletable": true,
    "editable": true
   },
   "source": [
    "## Generate TV Script\n",
    "This will generate the TV script for you.  Set `gen_length` to the length of TV script you want to generate."
   ]
  },
  {
   "cell_type": "code",
   "execution_count": 40,
   "metadata": {
    "collapsed": false,
    "deletable": true,
    "editable": true
   },
   "outputs": [
    {
     "name": "stdout",
     "output_type": "stream",
     "text": [
      "moe_szyslak:(to barney) in the time i get me back.\n",
      "barney_gumble: eh, i think you're the no good.\n",
      "moe_szyslak: you little... it's too gonna get to good for me.\n",
      "barney_gumble: hey, what's a little girl.(on tv) good out, why not so but you know you're right, homer.\n",
      "homer_simpson: oh, there's only a one thing you want the. what have you like?\n",
      "moe_szyslak:(to homer) it's your wife.\n",
      "\n",
      "\n",
      "moe_szyslak: uh, i just got this money!(he him get up)\n",
      "\n",
      "\n",
      "lenny_leonard:(drunk, which, don't two two to party and a little little man.\n",
      "\n",
      "\n",
      "homer_simpson:(on) don't do, if you get a little girl look at the guys,\"\n",
      "\n",
      "\n",
      "moe_szyslak:(to moe) oh, you're gonna a beer?\n",
      "moe_szyslak: well, i got a good thing.\n",
      "moe_szyslak: so, uh, what make your wife is a out of all can make us the.\n",
      "\n"
     ]
    }
   ],
   "source": [
    "gen_length = 200\n",
    "# homer_simpson, moe_szyslak, or Barney_Gumble\n",
    "prime_word = 'moe_szyslak'\n",
    "\n",
    "\"\"\"\n",
    "DON'T MODIFY ANYTHING IN THIS CELL THAT IS BELOW THIS LINE\n",
    "\"\"\"\n",
    "loaded_graph = tf.Graph()\n",
    "with tf.Session(graph=loaded_graph) as sess:\n",
    "    # Load saved model\n",
    "    loader = tf.train.import_meta_graph(load_dir + '.meta')\n",
    "    loader.restore(sess, load_dir)\n",
    "\n",
    "    # Get Tensors from loaded model\n",
    "    input_text, initial_state, final_state, probs = get_tensors(loaded_graph)\n",
    "\n",
    "    # Sentences generation setup\n",
    "    gen_sentences = [prime_word + ':']\n",
    "    prev_state = sess.run(initial_state, {input_text: np.array([[1]])})\n",
    "\n",
    "    # Generate sentences\n",
    "    for n in range(gen_length):\n",
    "        # Dynamic Input\n",
    "        dyn_input = [[vocab_to_int[word] for word in gen_sentences[-seq_length:]]]\n",
    "        dyn_seq_length = len(dyn_input[0])\n",
    "\n",
    "        # Get Prediction\n",
    "        probabilities, prev_state = sess.run(\n",
    "            [probs, final_state],\n",
    "            {input_text: dyn_input, initial_state: prev_state})\n",
    "        \n",
    "        pred_word = pick_word(probabilities[dyn_seq_length-1], int_to_vocab)\n",
    "\n",
    "        gen_sentences.append(pred_word)\n",
    "    \n",
    "    # Remove tokens\n",
    "    tv_script = ' '.join(gen_sentences)\n",
    "    for key, token in token_dict.items():\n",
    "        ending = ' ' if key in ['\\n', '(', '\"'] else ''\n",
    "        tv_script = tv_script.replace(' ' + token.lower(), key)\n",
    "    tv_script = tv_script.replace('\\n ', '\\n')\n",
    "    tv_script = tv_script.replace('( ', '(')\n",
    "        \n",
    "    print(tv_script)"
   ]
  },
  {
   "cell_type": "markdown",
   "metadata": {
    "deletable": true,
    "editable": true
   },
   "source": [
    "# The TV Script is Nonsensical\n",
    "It's ok if the TV script doesn't make any sense.  We trained on less than a megabyte of text.  In order to get good results, you'll have to use a smaller vocabulary or get more data.  Luckly there's more data!  As we mentioned in the begging of this project, this is a subset of [another dataset](https://www.kaggle.com/wcukierski/the-simpsons-by-the-data).  We didn't have you train on all the data, because that would take too long.  However, you are free to train your neural network on all the data.  After you complete the project, of course.\n",
    "# Submitting This Project\n",
    "When submitting this project, make sure to run all the cells before saving the notebook. Save the notebook file as \"dlnd_tv_script_generation.ipynb\" and save it as a HTML file under \"File\" -> \"Download as\". Include the \"helper.py\" and \"problem_unittests.py\" files in your submission."
   ]
  }
 ],
 "metadata": {
  "kernelspec": {
   "display_name": "Python 3",
   "language": "python",
   "name": "python3"
  },
  "language_info": {
   "codemirror_mode": {
    "name": "ipython",
    "version": 3
   },
   "file_extension": ".py",
   "mimetype": "text/x-python",
   "name": "python",
   "nbconvert_exporter": "python",
   "pygments_lexer": "ipython3",
   "version": "3.5.2"
  },
  "widgets": {
   "state": {},
   "version": "1.1.2"
  }
 },
 "nbformat": 4,
 "nbformat_minor": 0
}
